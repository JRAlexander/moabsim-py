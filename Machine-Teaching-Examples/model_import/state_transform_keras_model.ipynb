{
 "cells": [
  {
   "cell_type": "markdown",
   "metadata": {
    "id": "MhoQ0WE77laV"
   },
   "source": [
    "##### Copyright 2018 The TensorFlow Authors."
   ]
  },
  {
   "cell_type": "code",
   "execution_count": 2,
   "metadata": {
    "cellView": "form",
    "execution": {
     "iopub.execute_input": "2021-05-13T01:28:03.741198Z",
     "iopub.status.busy": "2021-05-13T01:28:03.740607Z",
     "iopub.status.idle": "2021-05-13T01:28:03.742945Z",
     "shell.execute_reply": "2021-05-13T01:28:03.742498Z"
    },
    "id": "vasWnqRgy1H4"
   },
   "outputs": [],
   "source": [
    "#@title MIT License\n",
    "#\n",
    "# Copyright (c) 2017 François Chollet\n",
    "#\n",
    "# Permission is hereby granted, free of charge, to any person obtaining a\n",
    "# copy of this software and associated documentation files (the \"Software\"),\n",
    "# to deal in the Software without restriction, including without limitation\n",
    "# the rights to use, copy, modify, merge, publish, distribute, sublicense,\n",
    "# and/or sell copies of the Software, and to permit persons to whom the\n",
    "# Software is furnished to do so, subject to the following conditions:\n",
    "#\n",
    "# The above copyright notice and this permission notice shall be included in\n",
    "# all copies or substantial portions of the Software.\n",
    "#\n",
    "# THE SOFTWARE IS PROVIDED \"AS IS\", WITHOUT WARRANTY OF ANY KIND, EXPRESS OR\n",
    "# IMPLIED, INCLUDING BUT NOT LIMITED TO THE WARRANTIES OF MERCHANTABILITY,\n",
    "# FITNESS FOR A PARTICULAR PURPOSE AND NONINFRINGEMENT. IN NO EVENT SHALL\n",
    "# THE AUTHORS OR COPYRIGHT HOLDERS BE LIABLE FOR ANY CLAIM, DAMAGES OR OTHER\n",
    "# LIABILITY, WHETHER IN AN ACTION OF CONTRACT, TORT OR OTHERWISE, ARISING\n",
    "# FROM, OUT OF OR IN CONNECTION WITH THE SOFTWARE OR THE USE OR OTHER\n",
    "# DEALINGS IN THE SOFTWARE."
   ]
  },
  {
   "cell_type": "code",
   "execution_count": 1,
   "metadata": {
    "execution": {
     "iopub.execute_input": "2021-05-13T01:28:03.750807Z",
     "iopub.status.busy": "2021-05-13T01:28:03.750218Z",
     "iopub.status.idle": "2021-05-13T01:28:09.430878Z",
     "shell.execute_reply": "2021-05-13T01:28:09.431273Z"
    },
    "id": "dzLKpmZICaWN"
   },
   "outputs": [
    {
     "output_type": "stream",
     "name": "stdout",
     "text": [
      "1.15.2\n"
     ]
    }
   ],
   "source": [
    "# TensorFlow and tf.keras\n",
    "import tensorflow as tf\n",
    "\n",
    "# Helper libraries\n",
    "import numpy as np\n",
    "import matplotlib.pyplot as plt\n",
    "\n",
    "print(tf.__version__)"
   ]
  },
  {
   "cell_type": "markdown",
   "metadata": {
    "id": "Gxg1XGm0eOBy"
   },
   "source": [
    "## Set up the layers of your keras model\n",
    "In this example we setup a deep neural net. We won't seek to train the model.\n"
   ]
  },
  {
   "cell_type": "code",
   "execution_count": 19,
   "metadata": {
    "execution": {
     "iopub.execute_input": "2021-05-13T01:28:12.959246Z",
     "iopub.status.busy": "2021-05-13T01:28:12.958646Z",
     "iopub.status.idle": "2021-05-13T01:28:14.576221Z",
     "shell.execute_reply": "2021-05-13T01:28:14.576664Z"
    },
    "id": "9ODch-OFCaW4"
   },
   "outputs": [
    {
     "output_type": "stream",
     "name": "stdout",
     "text": [
      "Model: \"sequential_3\"\n_________________________________________________________________\nLayer (type)                 Output Shape              Param #   \n=================================================================\nlambda_3 (Lambda)            (None, 4)                 0         \n_________________________________________________________________\ndense_4 (Dense)              (None, 32)                160       \n_________________________________________________________________\ndense_5 (Dense)              (None, 32)                1056      \n_________________________________________________________________\ndense_6 (Dense)              (None, 4)                 132       \n=================================================================\nTotal params: 1,348\nTrainable params: 1,348\nNon-trainable params: 0\n_________________________________________________________________\n"
     ]
    }
   ],
   "source": [
    "input_shape = (4,)\n",
    "model = tf.keras.Sequential([\n",
    "    tf.keras.Input(shape = input_shape),\n",
    "    tf.keras.layers.Lambda(lambda x: x*2), #trivial operation multiplying all inputs by a factor 2\n",
    "    tf.keras.layers.Dense(32), #comment out if you want to build a trivial model that only multiplies input by 2\n",
    "    tf.keras.layers.Dense(32), #comment out if you want to build a trivial model that only multiplies input by 2\n",
    "    tf.keras.layers.Dense(4), #comment out if you want to build a trivial model that only multiplies input by 2\n",
    "])\n",
    "\n",
    "model.summary()"
   ]
  },
  {
   "cell_type": "code",
   "execution_count": 21,
   "metadata": {},
   "outputs": [
    {
     "output_type": "execute_result",
     "data": {
      "text/plain": [
       "(1, 4)"
      ]
     },
     "metadata": {},
     "execution_count": 21
    }
   ],
   "source": [
    "# creating a test input (ones)\n",
    "x = np.array([1,1,1,1])\n",
    "x = np.reshape(x, (1,4))\n",
    "x.shape"
   ]
  },
  {
   "cell_type": "code",
   "execution_count": 26,
   "metadata": {},
   "outputs": [
    {
     "output_type": "execute_result",
     "data": {
      "text/plain": [
       "array([[ 1.8745925 ,  0.5256647 ,  0.83579564, -2.0971415 ]],\n",
       "      dtype=float32)"
      ]
     },
     "metadata": {},
     "execution_count": 26
    }
   ],
   "source": [
    "# testing the model with a test input\n",
    "model.predict(x) "
   ]
  },
  {
   "source": [
    "## Save model for bonsai model import\n",
    "1. tf saved model format using SavedModelBuilder\n",
    "2. onnx saved model\n",
    "3. NOT COMPATIBLE with bonsai model import: direct tf SavedModel"
   ],
   "cell_type": "markdown",
   "metadata": {}
  },
  {
   "cell_type": "code",
   "execution_count": 24,
   "metadata": {},
   "outputs": [
    {
     "output_type": "stream",
     "name": "stdout",
     "text": [
      "builder\n",
      "INFO:tensorflow:No assets to save.\n",
      "INFO:tensorflow:No assets to write.\n",
      "INFO:tensorflow:SavedModel written to: ./state_transform_deep/saved_model.pb\n"
     ]
    },
    {
     "output_type": "execute_result",
     "data": {
      "text/plain": [
       "b'./state_transform_deep/saved_model.pb'"
      ]
     },
     "metadata": {},
     "execution_count": 24
    }
   ],
   "source": [
    "#save keras model using SavedModelBuilder: compress as a .zip and ready for bonsai model import\n",
    "from keras import backend as K\n",
    "import tensorflow as tf\n",
    "signature = tf.saved_model.signature_def_utils.predict_signature_def(\n",
    "    inputs={\"data\": model.input}, outputs={\"out\": model.output}\n",
    ")\n",
    "MODEL_PATH_SAVEDMODEL = \"./state_transform_deep\"\n",
    "builder = tf.saved_model.builder.SavedModelBuilder(MODEL_PATH_SAVEDMODEL)\n",
    "print('builder')\n",
    "builder.add_meta_graph_and_variables(\n",
    "    sess=K.get_session(),\n",
    "    tags=[tf.saved_model.tag_constants.SERVING],\n",
    "    signature_def_map={\n",
    "        tf.saved_model.signature_constants.DEFAULT_SERVING_SIGNATURE_DEF_KEY: signature\n",
    "    },\n",
    ")\n",
    "builder.save()"
   ]
  },
  {
   "cell_type": "code",
   "execution_count": 25,
   "metadata": {},
   "outputs": [
    {
     "output_type": "stream",
     "name": "stderr",
     "text": [
      "The ONNX operator number change on the optimization: 14 -> 7\n",
      "The maximum opset needed by this model is only 9.\n"
     ]
    }
   ],
   "source": [
    "#save keras model as ONNX: ready for bonsai model import\n",
    "import os\n",
    "os.environ['TF_KERAS'] = '1'\n",
    "import keras2onnx\n",
    "onnx_model = keras2onnx.convert_keras(model, model.name)\n",
    "\n",
    "with open(\"state_transform_deep.onnx\", \"wb\") as f:\n",
    "    f.write(onnx_model.SerializeToString())"
   ]
  },
  {
   "cell_type": "code",
   "execution_count": null,
   "metadata": {},
   "outputs": [],
   "source": [
    "#CAUTION this way of saving tf SavedModel is not be compatible with bonsai model import\n",
    "#save keras model as tf savedmodel\n",
    "#model.save('saved_model/my_model',save_format='SavedModel')"
   ]
  }
 ],
 "metadata": {
  "colab": {
   "collapsed_sections": [],
   "name": "classification.ipynb",
   "toc_visible": true
  },
  "kernelspec": {
   "name": "python3710jvsc74a57bd0d414d662c8e6e82f50b7fda920b17dedcb1a2bc687fc6867fe60c7d4063d2a99",
   "display_name": "Python 3.7.10 64-bit ('bonsai-model-import': conda)"
  },
  "language_info": {
   "codemirror_mode": {
    "name": "ipython",
    "version": 3
   },
   "file_extension": ".py",
   "mimetype": "text/x-python",
   "name": "python",
   "nbconvert_exporter": "python",
   "pygments_lexer": "ipython3",
   "version": "3.7.10"
  },
  "metadata": {
   "interpreter": {
    "hash": "d414d662c8e6e82f50b7fda920b17dedcb1a2bc687fc6867fe60c7d4063d2a99"
   }
  }
 },
 "nbformat": 4,
 "nbformat_minor": 0
}